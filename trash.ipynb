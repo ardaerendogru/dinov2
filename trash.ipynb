{
 "cells": [
  {
   "cell_type": "code",
   "execution_count": 3,
   "metadata": {},
   "outputs": [
    {
     "name": "stdout",
     "output_type": "stream",
     "text": [
      "Moving images...\n"
     ]
    },
    {
     "name": "stderr",
     "output_type": "stream",
     "text": [
      "100%|██████████| 200/200 [00:00<00:00, 563.78it/s]"
     ]
    },
    {
     "name": "stdout",
     "output_type": "stream",
     "text": [
      "\n",
      "Successfully copied 200 images to /storage/disk2/sam_resized_subset\n"
     ]
    },
    {
     "name": "stderr",
     "output_type": "stream",
     "text": [
      "\n"
     ]
    }
   ],
   "source": [
    "import os\n",
    "import random\n",
    "import shutil\n",
    "from tqdm import tqdm\n",
    "\n",
    "# Path to directories\n",
    "source_dir = \"/storage/disk2/sam_resized\"\n",
    "subset_dir = \"/storage/disk2/sam_resized_subset\"\n",
    "\n",
    "# Create the subset directory if it doesn't exist\n",
    "os.makedirs(subset_dir, exist_ok=True)\n",
    "\n",
    "# Get list of image files\n",
    "image_files = [f for f in os.listdir(source_dir) if f.endswith(('.jpg', '.jpeg', '.png'))]\n",
    "\n",
    "# Randomly select 200 images\n",
    "selected_images = random.sample(image_files, 200)\n",
    "\n",
    "# Move the selected images\n",
    "print(\"Moving images...\")\n",
    "for filename in tqdm(selected_images):\n",
    "    source_path = os.path.join(source_dir, filename)\n",
    "    dest_path = os.path.join(subset_dir, filename)\n",
    "    shutil.copy2(source_path, dest_path)  # Using copy2 to preserve metadata\n",
    "\n",
    "print(f\"\\nSuccessfully copied 200 images to {subset_dir}\")"
   ]
  },
  {
   "cell_type": "code",
   "execution_count": 2,
   "metadata": {},
   "outputs": [
    {
     "name": "stdout",
     "output_type": "stream",
     "text": [
      "Reading images...\n"
     ]
    },
    {
     "name": "stderr",
     "output_type": "stream",
     "text": [
      "100%|██████████| 1096228/1096228 [07:02<00:00, 2596.77it/s]\n"
     ]
    },
    {
     "name": "stdout",
     "output_type": "stream",
     "text": [
      "\n",
      "Height Statistics:\n",
      "Min: 700\n",
      "Max: 3093\n",
      "Mean: 761.31\n",
      "Std: 133.56\n",
      "\n",
      "Width Statistics:\n",
      "Min: 700\n",
      "Max: 5287\n",
      "Mean: 987.31\n",
      "Std: 175.16\n"
     ]
    }
   ],
   "source": [
    "import os\n",
    "from PIL import Image\n",
    "import numpy as np\n",
    "from tqdm import tqdm\n",
    "\n",
    "# Path to images\n",
    "image_dir = \"/storage/disk2/sam_resized\"\n",
    "\n",
    "# Lists to store dimensions\n",
    "heights = []\n",
    "widths = []\n",
    "\n",
    "# Iterate through all images\n",
    "print(\"Reading images...\")\n",
    "for filename in tqdm(os.listdir(image_dir)):\n",
    "    if filename.endswith(('.jpg', '.jpeg', '.png')):\n",
    "        img_path = os.path.join(image_dir, filename)\n",
    "        try:\n",
    "            with Image.open(img_path) as img:\n",
    "                width, height = img.size\n",
    "                heights.append(height)\n",
    "                widths.append(width)\n",
    "        except Exception as e:\n",
    "            print(f\"Error reading {filename}: {e}\")\n",
    "\n",
    "# Convert to numpy arrays for statistics\n",
    "heights = np.array(heights)\n",
    "widths = np.array(widths)\n",
    "\n",
    "print(\"\\nHeight Statistics:\")\n",
    "print(f\"Min: {heights.min()}\")\n",
    "print(f\"Max: {heights.max()}\")\n",
    "print(f\"Mean: {heights.mean():.2f}\")\n",
    "print(f\"Std: {heights.std():.2f}\")\n",
    "\n",
    "print(\"\\nWidth Statistics:\")\n",
    "print(f\"Min: {widths.min()}\")\n",
    "print(f\"Max: {widths.max()}\")\n",
    "print(f\"Mean: {widths.mean():.2f}\")\n",
    "print(f\"Std: {widths.std():.2f}\")\n"
   ]
  },
  {
   "cell_type": "code",
   "execution_count": 5,
   "metadata": {},
   "outputs": [
    {
     "name": "stdout",
     "output_type": "stream",
     "text": [
      "\n",
      "Checking /storage/disk2:\n",
      "Total: 3519 GiB\n",
      "Used: 617 GiB\n",
      "Free: 2723 GiB\n",
      "\n",
      "Checking /storage/disk0/arda/dinov2:\n",
      "Total: 3519 GiB\n",
      "Used: 1665 GiB\n",
      "Free: 1675 GiB\n",
      "\n",
      "Checking /tmp:\n",
      "Total: 97 GiB\n",
      "Used: 89 GiB\n",
      "Free: 3 GiB\n"
     ]
    }
   ],
   "source": [
    "# Check available space\n",
    "import os\n",
    "import shutil\n",
    "\n",
    "def get_disk_usage(path):\n",
    "    total, used, free = shutil.disk_usage(path)\n",
    "    print(f\"Total: {total // (2**30)} GiB\")\n",
    "    print(f\"Used: {used // (2**30)} GiB\")\n",
    "    print(f\"Free: {free // (2**30)} GiB\")\n",
    "\n",
    "# Check a few common locations\n",
    "paths_to_check = [\n",
    "    \"/storage/disk2\",  # Where your sam_resized data is\n",
    "    os.getcwd(),       # Current working directory\n",
    "    \"/tmp\"            # Temporary directory\n",
    "]\n",
    "\n",
    "for path in paths_to_check:\n",
    "    print(f\"\\nChecking {path}:\")\n",
    "    get_disk_usage(path)"
   ]
  },
  {
   "cell_type": "code",
   "execution_count": 6,
   "metadata": {},
   "outputs": [
    {
     "name": "stdout",
     "output_type": "stream",
     "text": [
      "Error removing /tmp/vscode-ipc-dd31a14c-87e3-421e-99dd-37d7ee8b5905.sock: [Errno 1] Operation not permitted: '/tmp/vscode-ipc-dd31a14c-87e3-421e-99dd-37d7ee8b5905.sock'\n",
      "Error removing /tmp/vscode-ipc-5ca6a324-f007-4a5e-9481-3855c60e8364.sock: [Errno 1] Operation not permitted: '/tmp/vscode-ipc-5ca6a324-f007-4a5e-9481-3855c60e8364.sock'\n",
      "Error removing /tmp/vscode-ipc-61c0e819-ac41-4c52-a69b-ef75eecc44b2.sock: [Errno 1] Operation not permitted: '/tmp/vscode-ipc-61c0e819-ac41-4c52-a69b-ef75eecc44b2.sock'\n",
      "Error removing /tmp/vscode-ipc-9b03e393-bd1d-48a2-aa88-123e09ddcccd.sock: [Errno 1] Operation not permitted: '/tmp/vscode-ipc-9b03e393-bd1d-48a2-aa88-123e09ddcccd.sock'\n",
      "Error removing /tmp/vscode-ipc-c03ce3dd-b526-47a5-b9d8-65a7024a47f6.sock: [Errno 1] Operation not permitted: '/tmp/vscode-ipc-c03ce3dd-b526-47a5-b9d8-65a7024a47f6.sock'\n",
      "Error removing /tmp/vscode-ipc-d997661b-8548-49f0-8425-b0145d6012cd.sock: [Errno 1] Operation not permitted: '/tmp/vscode-ipc-d997661b-8548-49f0-8425-b0145d6012cd.sock'\n",
      "Error removing /tmp/vscode-ipc-d08b9299-49ee-4d3b-a4a8-7be926c0cf69.sock: [Errno 1] Operation not permitted: '/tmp/vscode-ipc-d08b9299-49ee-4d3b-a4a8-7be926c0cf69.sock'\n",
      "Error removing /tmp/vscode-ipc-5d49dbcd-2683-4fff-9ca7-546844f2c0a1.sock: [Errno 1] Operation not permitted: '/tmp/vscode-ipc-5d49dbcd-2683-4fff-9ca7-546844f2c0a1.sock'\n",
      "Error removing /tmp/vscode-ipc-d4f608cb-a789-442b-a8be-395d916fdc49.sock: [Errno 1] Operation not permitted: '/tmp/vscode-ipc-d4f608cb-a789-442b-a8be-395d916fdc49.sock'\n",
      "Error removing /tmp/vscode-ipc-63aaa0ba-37f7-4afd-8ff0-05f71bf05784.sock: [Errno 1] Operation not permitted: '/tmp/vscode-ipc-63aaa0ba-37f7-4afd-8ff0-05f71bf05784.sock'\n",
      "Error removing /tmp/vscode-ipc-aa07a776-abf9-4164-a6c4-7b92afd91f16.sock: [Errno 1] Operation not permitted: '/tmp/vscode-ipc-aa07a776-abf9-4164-a6c4-7b92afd91f16.sock'\n",
      "Error removing /tmp/vscode-ipc-2d32eac0-3d74-4310-84cc-a94be592d378.sock: [Errno 1] Operation not permitted: '/tmp/vscode-ipc-2d32eac0-3d74-4310-84cc-a94be592d378.sock'\n",
      "Error removing /tmp/vscode-ipc-20a43ae8-8e76-4aae-8ee0-38cf1ec88fb1.sock: [Errno 1] Operation not permitted: '/tmp/vscode-ipc-20a43ae8-8e76-4aae-8ee0-38cf1ec88fb1.sock'\n",
      "Error removing /tmp/vscode-ipc-abfc934a-6fbd-42b1-b330-12b85cbc4bd1.sock: [Errno 1] Operation not permitted: '/tmp/vscode-ipc-abfc934a-6fbd-42b1-b330-12b85cbc4bd1.sock'\n",
      "Error removing /tmp/vscode-ipc-4985f669-1d9f-430d-a7bf-386ab1c1675a.sock: [Errno 1] Operation not permitted: '/tmp/vscode-ipc-4985f669-1d9f-430d-a7bf-386ab1c1675a.sock'\n",
      "Error removing /tmp/vscode-ipc-e77531a2-93cc-4c6f-a908-0daf9c101b1d.sock: [Errno 1] Operation not permitted: '/tmp/vscode-ipc-e77531a2-93cc-4c6f-a908-0daf9c101b1d.sock'\n",
      "Error removing /tmp/vscode-ipc-7c1a170f-460d-4df0-a76e-358d063efb8e.sock: [Errno 1] Operation not permitted: '/tmp/vscode-ipc-7c1a170f-460d-4df0-a76e-358d063efb8e.sock'\n",
      "Error removing /tmp/vscode-ipc-3c12c355-7886-4011-8dd5-eb5285aa2713.sock: [Errno 1] Operation not permitted: '/tmp/vscode-ipc-3c12c355-7886-4011-8dd5-eb5285aa2713.sock'\n",
      "Error removing /tmp/vscode-ipc-fc0a0b5f-a20c-44c3-a0c9-e07b2543f9f9.sock: [Errno 1] Operation not permitted: '/tmp/vscode-ipc-fc0a0b5f-a20c-44c3-a0c9-e07b2543f9f9.sock'\n",
      "Error removing /tmp/vscode-ipc-d3817773-4c21-4a9d-8ed0-e5a6c69bf47a.sock: [Errno 1] Operation not permitted: '/tmp/vscode-ipc-d3817773-4c21-4a9d-8ed0-e5a6c69bf47a.sock'\n",
      "Error removing /tmp/vscode-ipc-6f48e735-00e0-468c-8f74-0f43ad82b311.sock: [Errno 1] Operation not permitted: '/tmp/vscode-ipc-6f48e735-00e0-468c-8f74-0f43ad82b311.sock'\n",
      "Error removing /tmp/vscode-ipc-055705da-e76d-4cad-af62-390457f35d16.sock: [Errno 1] Operation not permitted: '/tmp/vscode-ipc-055705da-e76d-4cad-af62-390457f35d16.sock'\n",
      "Error removing /tmp/vscode-ipc-fb9297ab-9736-4586-bf50-a2132b5beee1.sock: [Errno 1] Operation not permitted: '/tmp/vscode-ipc-fb9297ab-9736-4586-bf50-a2132b5beee1.sock'\n",
      "Error removing /tmp/vscode-ipc-a95d39da-fe30-4e23-a047-661ea287b8e7.sock: [Errno 1] Operation not permitted: '/tmp/vscode-ipc-a95d39da-fe30-4e23-a047-661ea287b8e7.sock'\n",
      "Error removing /tmp/vscode-ipc-f6eb19eb-ad4c-4905-b1bb-8bb73d549d84.sock: [Errno 1] Operation not permitted: '/tmp/vscode-ipc-f6eb19eb-ad4c-4905-b1bb-8bb73d549d84.sock'\n",
      "Error removing /tmp/vscode-ipc-e4d9898b-1275-46a9-80d7-c096d6512bb4.sock: [Errno 1] Operation not permitted: '/tmp/vscode-ipc-e4d9898b-1275-46a9-80d7-c096d6512bb4.sock'\n",
      "Error removing /tmp/vscode-typescript1000: [Errno 1] Operation not permitted: '/tmp/vscode-typescript1000'\n",
      "Removed 0 VSCode temporary files\n"
     ]
    }
   ],
   "source": [
    "import os\n",
    "import glob\n",
    "\n",
    "def cleanup_vscode_tmp():\n",
    "    # Remove VSCode IPC files\n",
    "    vscode_patterns = [\n",
    "        '/tmp/vscode-ipc-*',\n",
    "        '/tmp/vscode-typescript*'\n",
    "    ]\n",
    "    \n",
    "    files_removed = 0\n",
    "    for pattern in vscode_patterns:\n",
    "        files = glob.glob(pattern)\n",
    "        for file in files:\n",
    "            try:\n",
    "                os.remove(file)\n",
    "                files_removed += 1\n",
    "            except OSError as e:\n",
    "                print(f\"Error removing {file}: {e}\")\n",
    "    \n",
    "    print(f\"Removed {files_removed} VSCode temporary files\")\n",
    "\n",
    "# Run cleanup\n",
    "cleanup_vscode_tmp()"
   ]
  },
  {
   "cell_type": "code",
   "execution_count": null,
   "metadata": {},
   "outputs": [],
   "source": []
  }
 ],
 "metadata": {
  "kernelspec": {
   "display_name": "dinov2",
   "language": "python",
   "name": "python3"
  },
  "language_info": {
   "codemirror_mode": {
    "name": "ipython",
    "version": 3
   },
   "file_extension": ".py",
   "mimetype": "text/x-python",
   "name": "python",
   "nbconvert_exporter": "python",
   "pygments_lexer": "ipython3",
   "version": "3.9.20"
  }
 },
 "nbformat": 4,
 "nbformat_minor": 2
}
