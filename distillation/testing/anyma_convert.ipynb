{
 "cells": [
  {
   "cell_type": "code",
   "execution_count": 1,
   "metadata": {},
   "outputs": [
    {
     "name": "stderr",
     "output_type": "stream",
     "text": [
      "/home/arda/tmp/ipykernel_2238048/2639256857.py:2: FutureWarning: You are using `torch.load` with `weights_only=False` (the current default value), which uses the default pickle module implicitly. It is possible to construct malicious pickle data which will execute arbitrary code during unpickling (See https://github.com/pytorch/pytorch/blob/main/SECURITY.md#untrusted-models for more details). In a future release, the default value for `weights_only` will be flipped to `True`. This limits the functions that could be executed during unpickling. Arbitrary objects will no longer be allowed to be loaded via this mode unless they are explicitly allowlisted by the user via `torch.serialization.add_safe_globals`. We recommend you start setting `weights_only=True` for any use case where you don't have full control of the loaded file. Please open an issue on GitHub for any issues related to this experimental feature.\n",
      "  w = torch.load('/home/arda/dinov2/distillation/logs/resnet50/distillation/dino_base_448/checkpoints/last.ckpt')\n"
     ]
    }
   ],
   "source": [
    "import torch\n",
    "w = torch.load('/home/arda/dinov2/distillation/logs/resnet50/distillation/dino_base_448/checkpoints/last.ckpt')"
   ]
  },
  {
   "cell_type": "code",
   "execution_count": 2,
   "metadata": {},
   "outputs": [],
   "source": [
    "w_student = {k: v for k, v in w['state_dict'].items() if 'student' in k and 'scalekd' not in k and 'feature_matchers' not in k}"
   ]
  },
  {
   "cell_type": "code",
   "execution_count": 3,
   "metadata": {},
   "outputs": [
    {
     "data": {
      "text/plain": [
       "dict_keys(['student.model.model.stem.conv1.weight', 'student.model.model.stem.conv1.norm.weight', 'student.model.model.stem.conv1.norm.bias', 'student.model.model.stem.conv1.norm.running_mean', 'student.model.model.stem.conv1.norm.running_var', 'student.model.model.stem.conv1.norm.num_batches_tracked', 'student.model.model.res2.0.shortcut.weight', 'student.model.model.res2.0.shortcut.norm.weight', 'student.model.model.res2.0.shortcut.norm.bias', 'student.model.model.res2.0.shortcut.norm.running_mean', 'student.model.model.res2.0.shortcut.norm.running_var', 'student.model.model.res2.0.shortcut.norm.num_batches_tracked', 'student.model.model.res2.0.conv1.weight', 'student.model.model.res2.0.conv1.norm.weight', 'student.model.model.res2.0.conv1.norm.bias', 'student.model.model.res2.0.conv1.norm.running_mean', 'student.model.model.res2.0.conv1.norm.running_var', 'student.model.model.res2.0.conv1.norm.num_batches_tracked', 'student.model.model.res2.0.conv2.weight', 'student.model.model.res2.0.conv2.norm.weight', 'student.model.model.res2.0.conv2.norm.bias', 'student.model.model.res2.0.conv2.norm.running_mean', 'student.model.model.res2.0.conv2.norm.running_var', 'student.model.model.res2.0.conv2.norm.num_batches_tracked', 'student.model.model.res2.0.conv3.weight', 'student.model.model.res2.0.conv3.norm.weight', 'student.model.model.res2.0.conv3.norm.bias', 'student.model.model.res2.0.conv3.norm.running_mean', 'student.model.model.res2.0.conv3.norm.running_var', 'student.model.model.res2.0.conv3.norm.num_batches_tracked', 'student.model.model.res2.1.conv1.weight', 'student.model.model.res2.1.conv1.norm.weight', 'student.model.model.res2.1.conv1.norm.bias', 'student.model.model.res2.1.conv1.norm.running_mean', 'student.model.model.res2.1.conv1.norm.running_var', 'student.model.model.res2.1.conv1.norm.num_batches_tracked', 'student.model.model.res2.1.conv2.weight', 'student.model.model.res2.1.conv2.norm.weight', 'student.model.model.res2.1.conv2.norm.bias', 'student.model.model.res2.1.conv2.norm.running_mean', 'student.model.model.res2.1.conv2.norm.running_var', 'student.model.model.res2.1.conv2.norm.num_batches_tracked', 'student.model.model.res2.1.conv3.weight', 'student.model.model.res2.1.conv3.norm.weight', 'student.model.model.res2.1.conv3.norm.bias', 'student.model.model.res2.1.conv3.norm.running_mean', 'student.model.model.res2.1.conv3.norm.running_var', 'student.model.model.res2.1.conv3.norm.num_batches_tracked', 'student.model.model.res2.2.conv1.weight', 'student.model.model.res2.2.conv1.norm.weight', 'student.model.model.res2.2.conv1.norm.bias', 'student.model.model.res2.2.conv1.norm.running_mean', 'student.model.model.res2.2.conv1.norm.running_var', 'student.model.model.res2.2.conv1.norm.num_batches_tracked', 'student.model.model.res2.2.conv2.weight', 'student.model.model.res2.2.conv2.norm.weight', 'student.model.model.res2.2.conv2.norm.bias', 'student.model.model.res2.2.conv2.norm.running_mean', 'student.model.model.res2.2.conv2.norm.running_var', 'student.model.model.res2.2.conv2.norm.num_batches_tracked', 'student.model.model.res2.2.conv3.weight', 'student.model.model.res2.2.conv3.norm.weight', 'student.model.model.res2.2.conv3.norm.bias', 'student.model.model.res2.2.conv3.norm.running_mean', 'student.model.model.res2.2.conv3.norm.running_var', 'student.model.model.res2.2.conv3.norm.num_batches_tracked', 'student.model.model.res3.0.shortcut.weight', 'student.model.model.res3.0.shortcut.norm.weight', 'student.model.model.res3.0.shortcut.norm.bias', 'student.model.model.res3.0.shortcut.norm.running_mean', 'student.model.model.res3.0.shortcut.norm.running_var', 'student.model.model.res3.0.shortcut.norm.num_batches_tracked', 'student.model.model.res3.0.conv1.weight', 'student.model.model.res3.0.conv1.norm.weight', 'student.model.model.res3.0.conv1.norm.bias', 'student.model.model.res3.0.conv1.norm.running_mean', 'student.model.model.res3.0.conv1.norm.running_var', 'student.model.model.res3.0.conv1.norm.num_batches_tracked', 'student.model.model.res3.0.conv2.weight', 'student.model.model.res3.0.conv2.norm.weight', 'student.model.model.res3.0.conv2.norm.bias', 'student.model.model.res3.0.conv2.norm.running_mean', 'student.model.model.res3.0.conv2.norm.running_var', 'student.model.model.res3.0.conv2.norm.num_batches_tracked', 'student.model.model.res3.0.conv3.weight', 'student.model.model.res3.0.conv3.norm.weight', 'student.model.model.res3.0.conv3.norm.bias', 'student.model.model.res3.0.conv3.norm.running_mean', 'student.model.model.res3.0.conv3.norm.running_var', 'student.model.model.res3.0.conv3.norm.num_batches_tracked', 'student.model.model.res3.1.conv1.weight', 'student.model.model.res3.1.conv1.norm.weight', 'student.model.model.res3.1.conv1.norm.bias', 'student.model.model.res3.1.conv1.norm.running_mean', 'student.model.model.res3.1.conv1.norm.running_var', 'student.model.model.res3.1.conv1.norm.num_batches_tracked', 'student.model.model.res3.1.conv2.weight', 'student.model.model.res3.1.conv2.norm.weight', 'student.model.model.res3.1.conv2.norm.bias', 'student.model.model.res3.1.conv2.norm.running_mean', 'student.model.model.res3.1.conv2.norm.running_var', 'student.model.model.res3.1.conv2.norm.num_batches_tracked', 'student.model.model.res3.1.conv3.weight', 'student.model.model.res3.1.conv3.norm.weight', 'student.model.model.res3.1.conv3.norm.bias', 'student.model.model.res3.1.conv3.norm.running_mean', 'student.model.model.res3.1.conv3.norm.running_var', 'student.model.model.res3.1.conv3.norm.num_batches_tracked', 'student.model.model.res3.2.conv1.weight', 'student.model.model.res3.2.conv1.norm.weight', 'student.model.model.res3.2.conv1.norm.bias', 'student.model.model.res3.2.conv1.norm.running_mean', 'student.model.model.res3.2.conv1.norm.running_var', 'student.model.model.res3.2.conv1.norm.num_batches_tracked', 'student.model.model.res3.2.conv2.weight', 'student.model.model.res3.2.conv2.norm.weight', 'student.model.model.res3.2.conv2.norm.bias', 'student.model.model.res3.2.conv2.norm.running_mean', 'student.model.model.res3.2.conv2.norm.running_var', 'student.model.model.res3.2.conv2.norm.num_batches_tracked', 'student.model.model.res3.2.conv3.weight', 'student.model.model.res3.2.conv3.norm.weight', 'student.model.model.res3.2.conv3.norm.bias', 'student.model.model.res3.2.conv3.norm.running_mean', 'student.model.model.res3.2.conv3.norm.running_var', 'student.model.model.res3.2.conv3.norm.num_batches_tracked', 'student.model.model.res3.3.conv1.weight', 'student.model.model.res3.3.conv1.norm.weight', 'student.model.model.res3.3.conv1.norm.bias', 'student.model.model.res3.3.conv1.norm.running_mean', 'student.model.model.res3.3.conv1.norm.running_var', 'student.model.model.res3.3.conv1.norm.num_batches_tracked', 'student.model.model.res3.3.conv2.weight', 'student.model.model.res3.3.conv2.norm.weight', 'student.model.model.res3.3.conv2.norm.bias', 'student.model.model.res3.3.conv2.norm.running_mean', 'student.model.model.res3.3.conv2.norm.running_var', 'student.model.model.res3.3.conv2.norm.num_batches_tracked', 'student.model.model.res3.3.conv3.weight', 'student.model.model.res3.3.conv3.norm.weight', 'student.model.model.res3.3.conv3.norm.bias', 'student.model.model.res3.3.conv3.norm.running_mean', 'student.model.model.res3.3.conv3.norm.running_var', 'student.model.model.res3.3.conv3.norm.num_batches_tracked', 'student.model.model.res4.0.shortcut.weight', 'student.model.model.res4.0.shortcut.norm.weight', 'student.model.model.res4.0.shortcut.norm.bias', 'student.model.model.res4.0.shortcut.norm.running_mean', 'student.model.model.res4.0.shortcut.norm.running_var', 'student.model.model.res4.0.shortcut.norm.num_batches_tracked', 'student.model.model.res4.0.conv1.weight', 'student.model.model.res4.0.conv1.norm.weight', 'student.model.model.res4.0.conv1.norm.bias', 'student.model.model.res4.0.conv1.norm.running_mean', 'student.model.model.res4.0.conv1.norm.running_var', 'student.model.model.res4.0.conv1.norm.num_batches_tracked', 'student.model.model.res4.0.conv2.weight', 'student.model.model.res4.0.conv2.norm.weight', 'student.model.model.res4.0.conv2.norm.bias', 'student.model.model.res4.0.conv2.norm.running_mean', 'student.model.model.res4.0.conv2.norm.running_var', 'student.model.model.res4.0.conv2.norm.num_batches_tracked', 'student.model.model.res4.0.conv3.weight', 'student.model.model.res4.0.conv3.norm.weight', 'student.model.model.res4.0.conv3.norm.bias', 'student.model.model.res4.0.conv3.norm.running_mean', 'student.model.model.res4.0.conv3.norm.running_var', 'student.model.model.res4.0.conv3.norm.num_batches_tracked', 'student.model.model.res4.1.conv1.weight', 'student.model.model.res4.1.conv1.norm.weight', 'student.model.model.res4.1.conv1.norm.bias', 'student.model.model.res4.1.conv1.norm.running_mean', 'student.model.model.res4.1.conv1.norm.running_var', 'student.model.model.res4.1.conv1.norm.num_batches_tracked', 'student.model.model.res4.1.conv2.weight', 'student.model.model.res4.1.conv2.norm.weight', 'student.model.model.res4.1.conv2.norm.bias', 'student.model.model.res4.1.conv2.norm.running_mean', 'student.model.model.res4.1.conv2.norm.running_var', 'student.model.model.res4.1.conv2.norm.num_batches_tracked', 'student.model.model.res4.1.conv3.weight', 'student.model.model.res4.1.conv3.norm.weight', 'student.model.model.res4.1.conv3.norm.bias', 'student.model.model.res4.1.conv3.norm.running_mean', 'student.model.model.res4.1.conv3.norm.running_var', 'student.model.model.res4.1.conv3.norm.num_batches_tracked', 'student.model.model.res4.2.conv1.weight', 'student.model.model.res4.2.conv1.norm.weight', 'student.model.model.res4.2.conv1.norm.bias', 'student.model.model.res4.2.conv1.norm.running_mean', 'student.model.model.res4.2.conv1.norm.running_var', 'student.model.model.res4.2.conv1.norm.num_batches_tracked', 'student.model.model.res4.2.conv2.weight', 'student.model.model.res4.2.conv2.norm.weight', 'student.model.model.res4.2.conv2.norm.bias', 'student.model.model.res4.2.conv2.norm.running_mean', 'student.model.model.res4.2.conv2.norm.running_var', 'student.model.model.res4.2.conv2.norm.num_batches_tracked', 'student.model.model.res4.2.conv3.weight', 'student.model.model.res4.2.conv3.norm.weight', 'student.model.model.res4.2.conv3.norm.bias', 'student.model.model.res4.2.conv3.norm.running_mean', 'student.model.model.res4.2.conv3.norm.running_var', 'student.model.model.res4.2.conv3.norm.num_batches_tracked', 'student.model.model.res4.3.conv1.weight', 'student.model.model.res4.3.conv1.norm.weight', 'student.model.model.res4.3.conv1.norm.bias', 'student.model.model.res4.3.conv1.norm.running_mean', 'student.model.model.res4.3.conv1.norm.running_var', 'student.model.model.res4.3.conv1.norm.num_batches_tracked', 'student.model.model.res4.3.conv2.weight', 'student.model.model.res4.3.conv2.norm.weight', 'student.model.model.res4.3.conv2.norm.bias', 'student.model.model.res4.3.conv2.norm.running_mean', 'student.model.model.res4.3.conv2.norm.running_var', 'student.model.model.res4.3.conv2.norm.num_batches_tracked', 'student.model.model.res4.3.conv3.weight', 'student.model.model.res4.3.conv3.norm.weight', 'student.model.model.res4.3.conv3.norm.bias', 'student.model.model.res4.3.conv3.norm.running_mean', 'student.model.model.res4.3.conv3.norm.running_var', 'student.model.model.res4.3.conv3.norm.num_batches_tracked', 'student.model.model.res4.4.conv1.weight', 'student.model.model.res4.4.conv1.norm.weight', 'student.model.model.res4.4.conv1.norm.bias', 'student.model.model.res4.4.conv1.norm.running_mean', 'student.model.model.res4.4.conv1.norm.running_var', 'student.model.model.res4.4.conv1.norm.num_batches_tracked', 'student.model.model.res4.4.conv2.weight', 'student.model.model.res4.4.conv2.norm.weight', 'student.model.model.res4.4.conv2.norm.bias', 'student.model.model.res4.4.conv2.norm.running_mean', 'student.model.model.res4.4.conv2.norm.running_var', 'student.model.model.res4.4.conv2.norm.num_batches_tracked', 'student.model.model.res4.4.conv3.weight', 'student.model.model.res4.4.conv3.norm.weight', 'student.model.model.res4.4.conv3.norm.bias', 'student.model.model.res4.4.conv3.norm.running_mean', 'student.model.model.res4.4.conv3.norm.running_var', 'student.model.model.res4.4.conv3.norm.num_batches_tracked', 'student.model.model.res4.5.conv1.weight', 'student.model.model.res4.5.conv1.norm.weight', 'student.model.model.res4.5.conv1.norm.bias', 'student.model.model.res4.5.conv1.norm.running_mean', 'student.model.model.res4.5.conv1.norm.running_var', 'student.model.model.res4.5.conv1.norm.num_batches_tracked', 'student.model.model.res4.5.conv2.weight', 'student.model.model.res4.5.conv2.norm.weight', 'student.model.model.res4.5.conv2.norm.bias', 'student.model.model.res4.5.conv2.norm.running_mean', 'student.model.model.res4.5.conv2.norm.running_var', 'student.model.model.res4.5.conv2.norm.num_batches_tracked', 'student.model.model.res4.5.conv3.weight', 'student.model.model.res4.5.conv3.norm.weight', 'student.model.model.res4.5.conv3.norm.bias', 'student.model.model.res4.5.conv3.norm.running_mean', 'student.model.model.res4.5.conv3.norm.running_var', 'student.model.model.res4.5.conv3.norm.num_batches_tracked', 'student.model.model.res5.0.shortcut.weight', 'student.model.model.res5.0.shortcut.norm.weight', 'student.model.model.res5.0.shortcut.norm.bias', 'student.model.model.res5.0.shortcut.norm.running_mean', 'student.model.model.res5.0.shortcut.norm.running_var', 'student.model.model.res5.0.shortcut.norm.num_batches_tracked', 'student.model.model.res5.0.conv1.weight', 'student.model.model.res5.0.conv1.norm.weight', 'student.model.model.res5.0.conv1.norm.bias', 'student.model.model.res5.0.conv1.norm.running_mean', 'student.model.model.res5.0.conv1.norm.running_var', 'student.model.model.res5.0.conv1.norm.num_batches_tracked', 'student.model.model.res5.0.conv2.weight', 'student.model.model.res5.0.conv2.norm.weight', 'student.model.model.res5.0.conv2.norm.bias', 'student.model.model.res5.0.conv2.norm.running_mean', 'student.model.model.res5.0.conv2.norm.running_var', 'student.model.model.res5.0.conv2.norm.num_batches_tracked', 'student.model.model.res5.0.conv3.weight', 'student.model.model.res5.0.conv3.norm.weight', 'student.model.model.res5.0.conv3.norm.bias', 'student.model.model.res5.0.conv3.norm.running_mean', 'student.model.model.res5.0.conv3.norm.running_var', 'student.model.model.res5.0.conv3.norm.num_batches_tracked', 'student.model.model.res5.1.conv1.weight', 'student.model.model.res5.1.conv1.norm.weight', 'student.model.model.res5.1.conv1.norm.bias', 'student.model.model.res5.1.conv1.norm.running_mean', 'student.model.model.res5.1.conv1.norm.running_var', 'student.model.model.res5.1.conv1.norm.num_batches_tracked', 'student.model.model.res5.1.conv2.weight', 'student.model.model.res5.1.conv2.norm.weight', 'student.model.model.res5.1.conv2.norm.bias', 'student.model.model.res5.1.conv2.norm.running_mean', 'student.model.model.res5.1.conv2.norm.running_var', 'student.model.model.res5.1.conv2.norm.num_batches_tracked', 'student.model.model.res5.1.conv3.weight', 'student.model.model.res5.1.conv3.norm.weight', 'student.model.model.res5.1.conv3.norm.bias', 'student.model.model.res5.1.conv3.norm.running_mean', 'student.model.model.res5.1.conv3.norm.running_var', 'student.model.model.res5.1.conv3.norm.num_batches_tracked', 'student.model.model.res5.2.conv1.weight', 'student.model.model.res5.2.conv1.norm.weight', 'student.model.model.res5.2.conv1.norm.bias', 'student.model.model.res5.2.conv1.norm.running_mean', 'student.model.model.res5.2.conv1.norm.running_var', 'student.model.model.res5.2.conv1.norm.num_batches_tracked', 'student.model.model.res5.2.conv2.weight', 'student.model.model.res5.2.conv2.norm.weight', 'student.model.model.res5.2.conv2.norm.bias', 'student.model.model.res5.2.conv2.norm.running_mean', 'student.model.model.res5.2.conv2.norm.running_var', 'student.model.model.res5.2.conv2.norm.num_batches_tracked', 'student.model.model.res5.2.conv3.weight', 'student.model.model.res5.2.conv3.norm.weight', 'student.model.model.res5.2.conv3.norm.bias', 'student.model.model.res5.2.conv3.norm.running_mean', 'student.model.model.res5.2.conv3.norm.running_var', 'student.model.model.res5.2.conv3.norm.num_batches_tracked', 'loss_fn.losses.0.projector_0.proj_student.0.weight', 'loss_fn.losses.0.projector_0.proj_student.0.bias', 'loss_fn.losses.0.projector_0.proj_student.1.weight', 'loss_fn.losses.0.projector_0.proj_student.1.bias', 'loss_fn.losses.0.projector_0.proj_student.1.running_mean', 'loss_fn.losses.0.projector_0.proj_student.1.running_var', 'loss_fn.losses.0.projector_0.proj_student.1.num_batches_tracked', 'loss_fn.losses.0.projector_1.proj_student.0.weight', 'loss_fn.losses.0.projector_1.proj_student.0.bias', 'loss_fn.losses.0.projector_1.proj_student.1.weight', 'loss_fn.losses.0.projector_1.proj_student.1.bias', 'loss_fn.losses.0.projector_1.proj_student.1.running_mean', 'loss_fn.losses.0.projector_1.proj_student.1.running_var', 'loss_fn.losses.0.projector_1.proj_student.1.num_batches_tracked', 'loss_0.projector_0.proj_student.0.weight', 'loss_0.projector_0.proj_student.0.bias', 'loss_0.projector_0.proj_student.1.weight', 'loss_0.projector_0.proj_student.1.bias', 'loss_0.projector_0.proj_student.1.running_mean', 'loss_0.projector_0.proj_student.1.running_var', 'loss_0.projector_0.proj_student.1.num_batches_tracked', 'loss_0.projector_1.proj_student.0.weight', 'loss_0.projector_1.proj_student.0.bias', 'loss_0.projector_1.proj_student.1.weight', 'loss_0.projector_1.proj_student.1.bias', 'loss_0.projector_1.proj_student.1.running_mean', 'loss_0.projector_1.proj_student.1.running_var', 'loss_0.projector_1.proj_student.1.num_batches_tracked'])"
      ]
     },
     "execution_count": 3,
     "metadata": {},
     "output_type": "execute_result"
    }
   ],
   "source": [
    "w_student.keys()"
   ]
  },
  {
   "cell_type": "code",
   "execution_count": 4,
   "metadata": {},
   "outputs": [
    {
     "ename": "",
     "evalue": "",
     "output_type": "error",
     "traceback": [
      "\u001b[1;31mThe Kernel crashed while executing code in the current cell or a previous cell. \n",
      "\u001b[1;31mPlease review the code in the cell(s) to identify a possible cause of the failure. \n",
      "\u001b[1;31mClick <a href='https://aka.ms/vscodeJupyterKernelCrash'>here</a> for more info. \n",
      "\u001b[1;31mView Jupyter <a href='command:jupyter.viewOutput'>log</a> for further details."
     ]
    }
   ],
   "source": [
    "# Convert ResNet50 weights from student model to Detectron2 format\\\n",
    "import pickle as pkl\n",
    "detectron2_weights = {}\n",
    "\n",
    "# Map the keys from student model to Detectron2 format\n",
    "for k, v in w_student.items():\n",
    "    # Remove the 'student.model.model.' prefix\n",
    "    new_k = k.replace('student.model.model.', 'backbone.')\n",
    "    \n",
    "    # Handle stem weights\n",
    "    if 'stem' in new_k:\n",
    "        new_k = new_k.replace('conv1', 'conv1')\n",
    "    \n",
    "    # Handle residual blocks\n",
    "    for i in range(2, 6):\n",
    "        new_k = new_k.replace(f'res{i}', f'res{i}')\n",
    "    \n",
    "    detectron2_weights[new_k] = v.detach().cpu().numpy()\n",
    "\n",
    "# Save in Detectron2 compatible format with metadata\n",
    "res = {\n",
    "    \"model\": detectron2_weights,\n",
    "    \"__author__\": \"dinov2_distillation\",\n",
    "    \"matching_heuristics\": True\n",
    "}\n",
    "\n",
    "with open(\"/home/arda/anyma/pretrained_models/R-50_dino_l448.pkl\", \"wb\") as f:\n",
    "    pkl.dump(res, f)\n"
   ]
  },
  {
   "cell_type": "code",
   "execution_count": null,
   "metadata": {},
   "outputs": [],
   "source": []
  }
 ],
 "metadata": {
  "kernelspec": {
   "display_name": "coco",
   "language": "python",
   "name": "python3"
  },
  "language_info": {
   "codemirror_mode": {
    "name": "ipython",
    "version": 3
   },
   "file_extension": ".py",
   "mimetype": "text/x-python",
   "name": "python",
   "nbconvert_exporter": "python",
   "pygments_lexer": "ipython3",
   "version": "3.10.15"
  }
 },
 "nbformat": 4,
 "nbformat_minor": 2
}
